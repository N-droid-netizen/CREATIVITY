{
 "cells": [
  {
   "cell_type": "code",
   "execution_count": 6,
   "metadata": {},
   "outputs": [
    {
     "data": {
      "text/plain": [
       "<bound method NDFrame.head of       City Name Type               Package    Variety Sub Variety  Grade  \\\n",
       "70    BALTIMORE  NaN  1 1/9 bushel cartons   PIE TYPE         NaN    NaN   \n",
       "71    BALTIMORE  NaN  1 1/9 bushel cartons   PIE TYPE         NaN    NaN   \n",
       "72    BALTIMORE  NaN  1 1/9 bushel cartons   PIE TYPE         NaN    NaN   \n",
       "73    BALTIMORE  NaN  1 1/9 bushel cartons   PIE TYPE         NaN    NaN   \n",
       "74    BALTIMORE  NaN  1 1/9 bushel cartons   PIE TYPE         NaN    NaN   \n",
       "...         ...  ...                   ...        ...         ...    ...   \n",
       "1738  ST. LOUIS  NaN    1/2 bushel cartons  MINIATURE   FLAT TYPE    NaN   \n",
       "1739  ST. LOUIS  NaN    1/2 bushel cartons  MINIATURE   FLAT TYPE    NaN   \n",
       "1740  ST. LOUIS  NaN    1/2 bushel cartons  MINIATURE   FLAT TYPE    NaN   \n",
       "1741  ST. LOUIS  NaN    1/2 bushel cartons  MINIATURE   FLAT TYPE    NaN   \n",
       "1742  ST. LOUIS  NaN    1/2 bushel cartons  MINIATURE   FLAT TYPE    NaN   \n",
       "\n",
       "         Date  Low Price  High Price  Mostly Low  ...  Unit of Sale Quality  \\\n",
       "70    9/24/16      15.00        15.0        15.0  ...           NaN     NaN   \n",
       "71    9/24/16      18.00        18.0        18.0  ...           NaN     NaN   \n",
       "72    10/1/16      18.00        18.0        18.0  ...           NaN     NaN   \n",
       "73    10/1/16      17.00        17.0        17.0  ...           NaN     NaN   \n",
       "74    10/8/16      15.00        15.0        15.0  ...           NaN     NaN   \n",
       "...       ...        ...         ...         ...  ...           ...     ...   \n",
       "1738  9/30/16      15.00        15.0         NaN  ...           NaN     NaN   \n",
       "1739  9/30/16      13.75        15.0         NaN  ...           NaN     NaN   \n",
       "1740  9/30/16      10.75        15.0         NaN  ...           NaN     NaN   \n",
       "1741  9/30/16      12.00        12.0         NaN  ...           NaN     NaN   \n",
       "1742  9/30/16      12.00        12.0         NaN  ...           NaN     NaN   \n",
       "\n",
       "     Condition Appearance Storage  Crop Repack  Trans Mode  Unnamed: 24  \\\n",
       "70         NaN        NaN     NaN   NaN      N         NaN          NaN   \n",
       "71         NaN        NaN     NaN   NaN      N         NaN          NaN   \n",
       "72         NaN        NaN     NaN   NaN      N         NaN          NaN   \n",
       "73         NaN        NaN     NaN   NaN      N         NaN          NaN   \n",
       "74         NaN        NaN     NaN   NaN      N         NaN          NaN   \n",
       "...        ...        ...     ...   ...    ...         ...          ...   \n",
       "1738       NaN        NaN     NaN   NaN      N         NaN          NaN   \n",
       "1739       NaN        NaN     NaN   NaN      N         NaN          NaN   \n",
       "1740       NaN        NaN     NaN   NaN      N         NaN          NaN   \n",
       "1741       NaN        NaN     NaN   NaN      N         NaN          NaN   \n",
       "1742       NaN        NaN     NaN   NaN      N         NaN          NaN   \n",
       "\n",
       "      Unnamed: 25  \n",
       "70            NaN  \n",
       "71            NaN  \n",
       "72            NaN  \n",
       "73            NaN  \n",
       "74            NaN  \n",
       "...           ...  \n",
       "1738       LOWER.  \n",
       "1739       LOWER.  \n",
       "1740       LOWER.  \n",
       "1741       LOWER.  \n",
       "1742       LOWER.  \n",
       "\n",
       "[415 rows x 26 columns]>"
      ]
     },
     "execution_count": 6,
     "metadata": {},
     "output_type": "execute_result"
    }
   ],
   "source": [
    "import pandas as pd\n",
    "import csv\n",
    "import matplotlib.pyplot as plt\n",
    "pumpkins = pd.read_csv(\"us_pumpkins.csv\")\n",
    "pumpkins = pumpkins[pumpkins['Package'].str.contains('bushel', case=True, regex=True)]\n",
    "pumpkins.head\n"
   ]
  },
  {
   "cell_type": "code",
   "execution_count": 7,
   "metadata": {},
   "outputs": [
    {
     "data": {
      "text/plain": [
       "City Name            0\n",
       "Type               406\n",
       "Package              0\n",
       "Variety              0\n",
       "Sub Variety        167\n",
       "Grade              415\n",
       "Date                 0\n",
       "Low Price            0\n",
       "High Price           0\n",
       "Mostly Low          24\n",
       "Mostly High         24\n",
       "Origin               0\n",
       "Origin District    396\n",
       "Item Size          114\n",
       "Color              145\n",
       "Environment        415\n",
       "Unit of Sale       404\n",
       "Quality            415\n",
       "Condition          415\n",
       "Appearance         415\n",
       "Storage            415\n",
       "Crop               415\n",
       "Repack               0\n",
       "Trans Mode         415\n",
       "Unnamed: 24        415\n",
       "Unnamed: 25        391\n",
       "dtype: int64"
      ]
     },
     "execution_count": 7,
     "metadata": {},
     "output_type": "execute_result"
    }
   ],
   "source": [
    "pumpkins.isnull().sum()\n"
   ]
  },
  {
   "cell_type": "code",
   "execution_count": 8,
   "metadata": {},
   "outputs": [],
   "source": [
    "columns_to_select = ['Package', 'Low Price', 'High Price', 'Date']\n",
    "pumpkins = pumpkins.loc[:, columns_to_select]\n"
   ]
  },
  {
   "cell_type": "code",
   "execution_count": 9,
   "metadata": {},
   "outputs": [],
   "source": [
    "price = pumpkins['High Price'] + pumpkins['Low Price'] / 2\n",
    "month = pd.DatetimeIndex(pumpkins['Date']).month"
   ]
  },
  {
   "cell_type": "code",
   "execution_count": 10,
   "metadata": {},
   "outputs": [
    {
     "name": "stdout",
     "output_type": "stream",
     "text": [
      "      Month               Package  Low Price  High Price   Price\n",
      "70        9  1 1/9 bushel cartons      15.00        15.0  22.500\n",
      "71        9  1 1/9 bushel cartons      18.00        18.0  27.000\n",
      "72       10  1 1/9 bushel cartons      18.00        18.0  27.000\n",
      "73       10  1 1/9 bushel cartons      17.00        17.0  25.500\n",
      "74       10  1 1/9 bushel cartons      15.00        15.0  22.500\n",
      "...     ...                   ...        ...         ...     ...\n",
      "1738      9    1/2 bushel cartons      15.00        15.0  22.500\n",
      "1739      9    1/2 bushel cartons      13.75        15.0  21.875\n",
      "1740      9    1/2 bushel cartons      10.75        15.0  20.375\n",
      "1741      9    1/2 bushel cartons      12.00        12.0  18.000\n",
      "1742      9    1/2 bushel cartons      12.00        12.0  18.000\n",
      "\n",
      "[415 rows x 5 columns]\n"
     ]
    }
   ],
   "source": [
    "new_pumpkins = pd.DataFrame({'Month':month, 'Package':pumpkins['Package'], 'Low Price':pumpkins['Low Price'], 'High Price':pumpkins['High Price'], 'Price':price})\n",
    "print(new_pumpkins)"
   ]
  },
  {
   "cell_type": "code",
   "execution_count": 11,
   "metadata": {},
   "outputs": [],
   "source": [
    "new_pumpkins.loc[new_pumpkins['Package'].str.contains('1 1/9'), 'Price'] = price/(1 + 1/9)\n",
    "new_pumpkins.loc[new_pumpkins['Package'].str.contains('1/2'), 'Price'] = price/(1/2)"
   ]
  },
  {
   "cell_type": "code",
   "execution_count": 12,
   "metadata": {},
   "outputs": [
    {
     "data": {
      "text/plain": [
       "<function matplotlib.pyplot.show(close=None, block=None)>"
      ]
     },
     "execution_count": 12,
     "metadata": {},
     "output_type": "execute_result"
    },
    {
     "data": {
      "image/png": "[encoded data removed]",
      "text/plain": [
       "<Figure size 640x480 with 1 Axes>"
      ]
     },
     "metadata": {},
     "output_type": "display_data"
    }
   ],
   "source": [
    "price = new_pumpkins.Price\n",
    "month = new_pumpkins.Month\n",
    "plt.scatter(price,month)\n",
    "plt.show"
   ]
  },
  {
   "cell_type": "code",
   "execution_count": 13,
   "metadata": {},
   "outputs": [
    {
     "data": {
      "text/plain": [
       "Text(0, 0.5, 'Pumpkin Price')"
      ]
     },
     "execution_count": 13,
     "metadata": {},
     "output_type": "execute_result"
    },
    {
     "data": {
      "image/png": "[encoded data removed]",
      "text/plain": [
       "<Figure size 640x480 with 1 Axes>"
      ]
     },
     "metadata": {},
     "output_type": "display_data"
    }
   ],
   "source": [
    "new_pumpkins.groupby(['Month']) ['Price'].mean().plot(kind='bar')\n",
    "plt.ylabel(\"Pumpkin Price\")"
   ]
  }
 ],
 "metadata": {
  "kernelspec": {
   "display_name": "base",
   "language": "python",
   "name": "python3"
  },
  "language_info": {
   "name": "python",
   "version": "3.12.4"
  }
 },
 "nbformat": 4,
 "nbformat_minor": 2
}
